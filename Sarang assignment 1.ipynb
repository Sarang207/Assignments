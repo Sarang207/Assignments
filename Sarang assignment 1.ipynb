{
 "cells": [
  {
   "cell_type": "code",
   "execution_count": 1,
   "id": "043f7786-7085-46ac-885e-99e495d83ab9",
   "metadata": {},
   "outputs": [
    {
     "name": "stdout",
     "output_type": "stream",
     "text": [
      "1\n",
      "2\n",
      "3\n",
      "4\n",
      "5\n",
      "6\n",
      "7\n",
      "8\n",
      "9\n",
      "10\n"
     ]
    }
   ],
   "source": [
    "1\n",
    "i = 1\n",
    "\n",
    "while(i < 11):\n",
    "    print(i)\n",
    "    i = i + 1\n"
   ]
  },
  {
   "cell_type": "code",
   "execution_count": 2,
   "id": "811af25f-d4d0-40aa-a462-32869f2c2ea1",
   "metadata": {},
   "outputs": [
    {
     "name": "stdout",
     "output_type": "stream",
     "text": [
      " 1111\n",
      "  111\n",
      "   11\n",
      "    1\n"
     ]
    }
   ],
   "source": [
    "2\n",
    "for i in range(4):\n",
    "    for j in range(i+1):\n",
    "        print(\" \",end='')\n",
    "    for j in range(i,4):\n",
    "        print('1',end='')\n",
    "    print()"
   ]
  },
  {
   "cell_type": "code",
   "execution_count": 4,
   "id": "31d86186-a0db-450a-91ae-95931a02a471",
   "metadata": {},
   "outputs": [
    {
     "name": "stdout",
     "output_type": "stream",
     "text": [
      "The sum is 55\n"
     ]
    }
   ],
   "source": [
    "3\n",
    "n = 0\n",
    "for i in range(1,11):\n",
    "     n+=i\n",
    "print(\"The sum is\",n)"
   ]
  },
  {
   "cell_type": "code",
   "execution_count": 7,
   "id": "4efb34e0-5456-4224-92c4-e7e0578ab2f5",
   "metadata": {},
   "outputs": [
    {
     "name": "stdout",
     "output_type": "stream",
     "text": [
      "3 X 1 = 3\n",
      "3 X 2 = 6\n",
      "3 X 3 = 9\n",
      "3 X 4 = 12\n",
      "3 X 5 = 15\n",
      "3 X 6 = 18\n",
      "3 X 7 = 21\n",
      "3 X 8 = 24\n",
      "3 X 9 = 27\n",
      "3 X 10 = 30\n"
     ]
    }
   ],
   "source": [
    "4\n",
    "for i in range(1,11):\n",
    "    print('3 X', i, '=', 3*i)\n"
   ]
  },
  {
   "cell_type": "code",
   "execution_count": 8,
   "id": "d88ab64d-9f9d-4567-84df-0d9113c7a4a9",
   "metadata": {},
   "outputs": [
    {
     "name": "stdout",
     "output_type": "stream",
     "text": [
      "1\n",
      "2\n",
      "3\n",
      "4\n",
      "5\n",
      "7\n",
      "8\n",
      "9\n"
     ]
    }
   ],
   "source": [
    "5\n",
    "Li=[1,2,3,4,5,7,8,9]\n",
    "for i in Li:\n",
    "    print(i)"
   ]
  },
  {
   "cell_type": "code",
   "execution_count": 9,
   "id": "f7b1ee1a-6fef-4247-9cd2-1acb9e3b6cd7",
   "metadata": {},
   "outputs": [
    {
     "name": "stdout",
     "output_type": "stream",
     "text": [
      "20\n"
     ]
    }
   ],
   "source": [
    "6\n",
    "st = \"12223534484484454154\"\n",
    "print(len(st))"
   ]
  },
  {
   "cell_type": "code",
   "execution_count": 10,
   "id": "a87daacb-d979-4a01-bd44-359cffd67647",
   "metadata": {},
   "outputs": [
    {
     "name": "stdout",
     "output_type": "stream",
     "text": [
      "        * \n",
      "      * * * \n",
      "    * * * * * \n",
      "  * * * * * * * \n",
      "    * * * * * \n",
      "      * * * \n",
      "        * \n"
     ]
    }
   ],
   "source": [
    "7\n",
    "for i in range(4):\n",
    "    for j in range(i,4):\n",
    "        print(\" \",end = \" \")\n",
    "    for j in range(i+1):\n",
    "        print(\"*\",end = \" \")\n",
    "    for j in range(i): \n",
    "        print(\"*\",end = \" \")\n",
    "    print()\n",
    "for k in range(3):\n",
    "    for j in range(k+2):\n",
    "        print(\" \", end = \" \")\n",
    "    for j in range(k,3):\n",
    "        print(\"*\",end = \" \")\n",
    "    for j in range(k+1,3):\n",
    "        print(\"*\",end = \" \")\n",
    "    print()"
   ]
  },
  {
   "cell_type": "code",
   "execution_count": 11,
   "id": "4757158f-24d8-42e2-8323-78fe4e2e0c5a",
   "metadata": {},
   "outputs": [
    {
     "name": "stdout",
     "output_type": "stream",
     "text": [
      "9\n",
      "8\n",
      "7\n",
      "6\n",
      "5\n",
      "4\n",
      "3\n",
      "2\n",
      "1\n"
     ]
    }
   ],
   "source": [
    "8\n",
    "li=[1,2,3,4,5,6,7,8,9]\n",
    "for n in reversed (li):\n",
    "    print(n)"
   ]
  },
  {
   "cell_type": "code",
   "execution_count": 12,
   "id": "45ccb811-c88f-4e07-8b64-5a96994a2c93",
   "metadata": {},
   "outputs": [
    {
     "name": "stdout",
     "output_type": "stream",
     "text": [
      "-10\n",
      "-9\n",
      "-8\n",
      "-7\n",
      "-6\n",
      "-5\n",
      "-4\n",
      "-3\n",
      "-2\n",
      "-1\n"
     ]
    }
   ],
   "source": [
    "9\n",
    "for i in range (-10,0):\n",
    "    print(i)   "
   ]
  },
  {
   "cell_type": "code",
   "execution_count": 14,
   "id": "b77fa78b-8a8f-4861-bf6a-1ae83d8a9f6e",
   "metadata": {},
   "outputs": [
    {
     "name": "stdout",
     "output_type": "stream",
     "text": [
      "Done\n",
      "Not Done\n"
     ]
    }
   ],
   "source": [
    "10\n",
    "n = [2,3,4,5,6]\n",
    "for i in n:\n",
    "    if i == 5:\n",
    "        print(\"Done\")\n",
    "else:\n",
    "    print(\"Not Done\")"
   ]
  },
  {
   "cell_type": "code",
   "execution_count": 21,
   "id": "9599154c-fb3e-4edc-9f45-db2dd860e8b8",
   "metadata": {},
   "outputs": [
    {
     "name": "stdout",
     "output_type": "stream",
     "text": [
      "Enter the start of the range :1\n",
      "Enter the end of the range :10\n",
      "Prime numbers in the range [2,10]:\n",
      "2 3 4 5 6 7 8 9 10 "
     ]
    }
   ],
   "source": [
    "11\n",
    "def display_primes_in_range(start,end):\n",
    "    if start < 2:\n",
    "        start = 2\n",
    "    print(f\"Prime numbers in the range [{start},{end}]:\")\n",
    "    for number in range(start,end+1):\n",
    "        if (number):\n",
    "            print(number,end = \" \")\n",
    "            \n",
    "# Try :\n",
    "start_range = int(input(\"Enter the start of the range :\"))\n",
    "end_range = int(input(\"Enter the end of the range :\"))\n",
    "display_primes_in_range(start_range,end_range)"
   ]
  },
  {
   "cell_type": "code",
   "execution_count": 22,
   "id": "0a1febd7-a7a5-486d-a131-c4617b266057",
   "metadata": {},
   "outputs": [
    {
     "name": "stdout",
     "output_type": "stream",
     "text": [
      "Fibonacci series up to 10 terms:\n",
      "[0, 1, 1, 2, 3, 5, 8, 13, 21, 34]\n"
     ]
    }
   ],
   "source": [
    "12\n",
    "def fibonacci(n):\n",
    "    fib_series = []\n",
    "    a,b = 0,1\n",
    "    for i in range(n):\n",
    "        fib_series.append(a)\n",
    "        a,b = b , a+b\n",
    "    return fib_series\n",
    "n = 10\n",
    "fibonacci_series = fibonacci(n)\n",
    "print(\"Fibonacci series up to\",n,\"terms:\")\n",
    "print(fibonacci_series)"
   ]
  },
  {
   "cell_type": "code",
   "execution_count": 23,
   "id": "76131f31-588f-4cea-8102-a4d070eb743e",
   "metadata": {},
   "outputs": [
    {
     "name": "stdout",
     "output_type": "stream",
     "text": [
      "Enter a non negative integer :8\n",
      "The factorial of 8 is 40320\n"
     ]
    }
   ],
   "source": [
    "13\n",
    "def factorial(n):\n",
    "    if(n<0):\n",
    "        return \"Factorial is not defined for negative numbers\"\n",
    "    elif n == 0:\n",
    "        return 1\n",
    "    else :\n",
    "        result = 1\n",
    "        for i in range(1,n+1):\n",
    "            result *= i\n",
    "        return result\n",
    "    \n",
    "# Try :\n",
    "num = int(input(\"Enter a non negative integer :\"))\n",
    "if num < 0:\n",
    "    print(\"Factorial is not defined for negative numbers\")\n",
    "else:\n",
    "    fact = factorial(num)\n",
    "    print(f\"The factorial of {num} is {fact}\")"
   ]
  },
  {
   "cell_type": "code",
   "execution_count": 24,
   "id": "ef67f8b5-eab7-49ae-b761-54f345f906bb",
   "metadata": {},
   "outputs": [
    {
     "name": "stdout",
     "output_type": "stream",
     "text": [
      "[6, 7, 4, 5, 2, 3, 1]\n"
     ]
    }
   ],
   "source": [
    "14\n",
    "n = [1,3,2,5,4,7,6]\n",
    "n.reverse()\n",
    "print(n)"
   ]
  },
  {
   "cell_type": "code",
   "execution_count": 25,
   "id": "3537b83c-3bde-4c42-9bc0-3c7208505342",
   "metadata": {},
   "outputs": [],
   "source": [
    "15\n",
    "li = [0,1,2,3,4,5,6,7,8,9]\n",
    "for i in range(len(li),2):\n",
    "        print(list[i])"
   ]
  },
  {
   "cell_type": "code",
   "execution_count": 26,
   "id": "e1907afe-84f7-45f3-9b69-118601bbfc47",
   "metadata": {},
   "outputs": [
    {
     "name": "stdout",
     "output_type": "stream",
     "text": [
      "0 X 3 = 0\n",
      "1 X 3 = 1\n",
      "2 X 3 = 8\n",
      "3 X 3 = 27\n",
      "4 X 3 = 64\n",
      "5 X 3 = 125\n",
      "6 X 3 = 216\n",
      "7 X 3 = 343\n",
      "8 X 3 = 512\n",
      "9 X 3 = 729\n"
     ]
    }
   ],
   "source": [
    "16\n",
    "for i in range(10):\n",
    "    print(i, \"X\" , 3, \"=\", i*i*i)"
   ]
  },
  {
   "cell_type": "code",
   "execution_count": 31,
   "id": "aacecc7e-21b3-4e20-b5b3-4cc15d8bd2aa",
   "metadata": {},
   "outputs": [
    {
     "name": "stdout",
     "output_type": "stream",
     "text": [
      "The sum of the number is 1\n",
      "The sum of the number is 3\n",
      "The sum of the number is 6\n",
      "The sum of the number is 10\n",
      "The sum of the number is 15\n",
      "The sum of the number is 21\n",
      "The sum of the number is 28\n",
      "The sum of the number is 36\n",
      "The sum of the number is 45\n",
      "The sum of the number is 55\n"
     ]
    }
   ],
   "source": [
    "17\n",
    "sum = 0\n",
    "for i in range(1,11):\n",
    "    sum+=i\n",
    "    print(\"The sum of the number is\",sum)"
   ]
  },
  {
   "cell_type": "code",
   "execution_count": 32,
   "id": "cb8e0a57-f917-47ce-85e7-88b2a81b47bf",
   "metadata": {},
   "outputs": [
    {
     "name": "stdout",
     "output_type": "stream",
     "text": [
      "1 \n",
      "1 2 \n",
      "1 2 3 \n",
      "1 2 3 4 \n",
      "1 2 3 4 5 \n"
     ]
    }
   ],
   "source": [
    "18\n",
    "n=5\n",
    "for i in range(1,n+1):\n",
    "    for j in range(1,i+1):\n",
    "        print(j,end=' ')\n",
    "    print()"
   ]
  },
  {
   "cell_type": "code",
   "execution_count": null,
   "id": "ff9004a7-fc90-4b0f-aacb-3d11eaddeb9a",
   "metadata": {},
   "outputs": [],
   "source": []
  }
 ],
 "metadata": {
  "kernelspec": {
   "display_name": "Python 3 (ipykernel)",
   "language": "python",
   "name": "python3"
  },
  "language_info": {
   "codemirror_mode": {
    "name": "ipython",
    "version": 3
   },
   "file_extension": ".py",
   "mimetype": "text/x-python",
   "name": "python",
   "nbconvert_exporter": "python",
   "pygments_lexer": "ipython3",
   "version": "3.11.4"
  }
 },
 "nbformat": 4,
 "nbformat_minor": 5
}
