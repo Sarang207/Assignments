{
 "cells": [
  {
   "cell_type": "code",
   "execution_count": null,
   "id": "f89674b3",
   "metadata": {},
   "outputs": [],
   "source": [
    "#1. What is the probability of throwing one dice and getting the number greater than 4 ?\n",
    "Once dice is thrown Possible outcomes are : 1,2,3,4,5,6\n",
    "Possibilities of  Getting number greater than 4 is 5 and 6\n",
    "\n",
    "Probability if getting 5 is 1/6 and Probability if getting 6 is 1/6\n",
    "\n",
    "So,P(Getting number greater than 4 is)=(1/6)+(1/6)= 2/6=1/3 "
   ]
  },
  {
   "cell_type": "code",
   "execution_count": null,
   "id": "2c4bc345",
   "metadata": {},
   "outputs": [],
   "source": [
    "#2.  \"What is the probability of throwing two dice and getting the sum of the fallen numbers greater than 3 ?\"\n",
    "If we throw a two dice then there are 36 possible outcomes.\n",
    "Sum of the fallen numbers Less than 3 are (1,1).\n",
    "so, P(Getting Sum of the fallen numbers Less than 3 ) = 1/36\n",
    "and\n",
    "P(Getting Sum of the fallen numbers greater than 3 )=1-1/36= 35/36\n"
   ]
  },
  {
   "cell_type": "code",
   "execution_count": null,
   "id": "62660782",
   "metadata": {},
   "outputs": [],
   "source": [
    "#3. We select 7 playing cards out of 52. What is the probability that among the selected cards there are exactly three hearts??\n",
    "\n",
    "Probability of selecting 7 playing cards is 7/52\n",
    "and getting probability of getting exactly three hearts is 3/13\n",
    "the ways to select 7 cards out of 52 = 52 C 7\n",
    "\n",
    "p(getting exactly three hearts is) = (13 C 3)/(52 C 7)"
   ]
  },
  {
   "cell_type": "code",
   "execution_count": null,
   "id": "901f02cb",
   "metadata": {},
   "outputs": [],
   "source": [
    "#4. \"What is the probability of flipping a coin and getting the head fallen five times in a row ?\"\n",
    "\n",
    "Number of Possibilities are  2^5= 32\n",
    "P(HHHHH)=1/32\n"
   ]
  },
  {
   "cell_type": "code",
   "execution_count": null,
   "id": "4414803a",
   "metadata": {},
   "outputs": [],
   "source": [
    "#5.\"The customer wants to buy a bread and a can. There are 30 pieces of bread in the shop,including 5 from the previous day, and 20 cans with unreadable expiration date, of which\n",
    "# one has expired. What is the probability that the customer will buy a fresh bread and a tin under warranty ?\"\n",
    "\n",
    "    \n",
    "Probability of fresh bread is 25/30\n",
    "probability of getting a tin under warranty is 19/20\n",
    "so,probability that the customer will buy a fresh bread and a tin under warranty is\n",
    "P(Buying fresh bread)*P(tin under warranty)=(25/30)*(19/20)=475/600"
   ]
  },
  {
   "cell_type": "code",
   "execution_count": null,
   "id": "a04946ce",
   "metadata": {},
   "outputs": [],
   "source": [
    "#6. \"Abstracted secretary placed three letters randomly into three envelopes.\n",
    "# What is the probability that at least one of the recipients gets his letter ?\"\n",
    "    \n",
    "The number of ways placing three letters randomly into three envelopes is 3! = 6 WAYS\n",
    "\n",
    "probability that  one of the recipients gets his letter is 1/6\n",
    "probability that two of the recipients gets his letter  is 1/6\n",
    "\n",
    "probability that at least one of the recipients gets his letter = 1/6 +1/6=2/6=1/3\n",
    "\n",
    "\n",
    "\n"
   ]
  },
  {
   "cell_type": "code",
   "execution_count": null,
   "id": "933f2916",
   "metadata": {},
   "outputs": [],
   "source": [
    "#7. \"There are 10 pots exposed in the shop, 2 of which have hidden defects. The customer buys two pieces. \n",
    "#What is the probability that at least one of them has a hidden bug ?\"\n",
    "\n",
    "Probability of not getting hidden defect is  8/10=4/5\n",
    "\n",
    "Probability of getting hidden defect is  2/10=1/5\n",
    "The customer buys two pieces. What is the probability that atleast one of them has a hidden bug is\n",
    "P(at least one hidden bug is)=1/5\n",
    "\n"
   ]
  },
  {
   "cell_type": "code",
   "execution_count": null,
   "id": "5fc9e215",
   "metadata": {},
   "outputs": [],
   "source": [
    "#8. \"What is the probability of throwing one dice seven times in a row and \n",
    "#getting the number 6 fallen exactly 3 times ?\"\n",
    "By using binomial probability distribution\n",
    "P(X=x)=nCx p^x*(1-p)^n-x\n",
    "P(X=3) if Probability of getting the number 6 fallen exactly 3 times.\n",
    "n=7 \n",
    "P(X=3)=7C3 (1/6)^3*(1-1/6)^4\n",
    "     = 7C3  (1/6)^3*(5/6)^4\n"
   ]
  },
  {
   "cell_type": "code",
   "execution_count": null,
   "id": "b67ec3f3",
   "metadata": {},
   "outputs": [],
   "source": [
    "#9. \"The test contains 10 questions, each one with available four different answers, among which just one is correct. To pass the test at least 5 questions must be answered correctly. What is the probability that completely \n",
    "#unprepared student will pass the test ?\"\n",
    "\n",
    "Probability of correct answer is p=1/4\n",
    "The test contain 10 question i.e n=10\n",
    "The probability solving correct 5 question = 10C5 (1/4)^5*(1-1/4)^5\n",
    "So, the probability that completely unprepared student will pass the test is\n",
    "\n",
    "P(pass the test)=10C5 (1/4)^5*(1-1/4)^5"
   ]
  },
  {
   "cell_type": "code",
   "execution_count": null,
   "id": "264129f9",
   "metadata": {},
   "outputs": [],
   "source": [
    "#10. \"We have 100 tickets in the hat numbered from 1 to 100. With what probability will we pull\n",
    "#     out a number that is divisible by two or by five ?\"\n",
    "The total number which is divisible by 2 is 50\n",
    "and  total number which is divisible by 5 is 20\n",
    "So probability will we pull out a number that is divisible by two is 50/100 =1/2\n",
    "probability will we pull out a number that is divisible by five is 20/100=1/5\n",
    "so,\n",
    "probability will we pull out a number that is divisible by two or five is 1/2+1/5=7/10\n"
   ]
  },
  {
   "cell_type": "code",
   "execution_count": null,
   "id": "e5006c43",
   "metadata": {},
   "outputs": [],
   "source": [
    "\n",
    "#11.  \"There are 49 products in the box, from which only 6 are high quality. What is the probability of pulling out 6 random products from the box and having \n",
    "# at least four of them high quality ?\"\n",
    "The number of ways we can pull the product is 49C6\n",
    "nunber of ways Out of 6 high quality product 4 will be high quality product 6C4\n",
    "\n",
    " What is the probability of pulling out 6 random products from the box and having \n",
    "at least four of them high quality ?\"\n",
    "= (6C4 +6C5 +6C6)/49C6\n"
   ]
  },
  {
   "cell_type": "code",
   "execution_count": null,
   "id": "e8f7c03f",
   "metadata": {},
   "outputs": [],
   "source": [
    "#12. \"What is the probability of throwing two dice and getting the sum of the fallen numbers exactly 9 ?\"\n",
    " possible ways getting different numbers on a dice  \n",
    "\n",
    "After throwing two dice there are 36  possible ways getting different numbers on a dice  \n",
    "Getting sum of the fallen numbers exactly 9  are (3,6),(6,3),(4,5),(5,4)\n",
    "\n",
    "P( getting the sum of the fallen numbers exactly 9)=4/36=1/9"
   ]
  },
  {
   "cell_type": "code",
   "execution_count": null,
   "id": "2f76b59d",
   "metadata": {},
   "outputs": [],
   "source": [
    "#13) \"What is the probability of throwing one dice and get :\\n\",\n",
    "    \"a) the even number\\n\",\n",
    "    \"b) the number divisible by three\\n\",\n",
    "    \"c) the number less than six ?\"\n",
    "--->>\n",
    "a) \n",
    "Throwing one dice getting even number is {2,4,6}\n",
    "P(getting even number )=3/6\n",
    "\n",
    "b)\n",
    "Getting numbers divisible by three are {3,6}\n",
    "P(Getting numbers divisible by three) =  2/6 =1/3\n",
    "\n",
    "c)The number less than six {1,2,3,4,5}\n",
    "\n",
    "P(Getting number less than six)=(5/6)\n",
    "\n",
    "\n"
   ]
  },
  {
   "cell_type": "code",
   "execution_count": null,
   "id": "cfc07b27",
   "metadata": {},
   "outputs": [],
   "source": [
    "#14.  \"There are 60 chemical flasks in the laboratory, 6\n",
    "of which are incorrectly labeled. What is the chance that if we randomly choose 5 flasks, \n",
    "exactly 3 of them will be labeled correctly ?\"\n",
    "\n",
    "\n",
    "There are 60 chemical flasks in the laboratory,\n",
    "Probability of correctly labled = 54/60\n",
    "randomly choose 5 flasks,\n",
    "\n",
    "Probability of exactly 3 of them will be labeled correctly = 5_C_3 (54/60)^3*(6/60)^2\n",
    "\n",
    "\n",
    "    \n"
   ]
  },
  {
   "cell_type": "code",
   "execution_count": null,
   "id": "93ad9739",
   "metadata": {},
   "outputs": [],
   "source": [
    "#15. \"What is the probability that if we choose a trinity from 19 boys and 12 girls, we will have :\\n\",\n",
    "    \"a) three boys\\n\",\n",
    "    \"b) three girls\\n\",\n",
    "    \"c) two boys and one girl ?\"\n",
    "\n",
    "The number of possible ways to choose trinity is 31_C_3\n",
    "a)\n",
    "The probability that choosing three boys = 19_C_3/31_C_3\n",
    "b)\n",
    "The probability that choosing three Girls = 12_C_3 / 31_C_3\n",
    "c) \n",
    "The probability that choosing two boys one Girl = (19_C_2 + 12_C_1)/31_C_3\n",
    "\n"
   ]
  },
  {
   "cell_type": "code",
   "execution_count": null,
   "id": "b9c8e79d",
   "metadata": {},
   "outputs": [],
   "source": [
    "#16. \"There are 30 products in the box, from which 3 are faulty. \n",
    "Find the probability of pulling out 5 random products from the box and having among them at most two the faulty ones.\"\n",
    "\n",
    "probability of getting faulty = 3/30=1/10\n",
    "probability of pulling out 5 random products from the box and having among them \n",
    "at most two the faulty ones = 5_C_1 (1/10)^1*(1-1/10)^4+5_C_2(1/10)^2*(9/10)^3\n"
   ]
  },
  {
   "cell_type": "code",
   "execution_count": null,
   "id": "23dcb92b",
   "metadata": {},
   "outputs": [],
   "source": [
    "#17. \"Johnny wrote a random natural number from 1 to 20. Determine the probability that he wrote a prime number.\"\n",
    "\n",
    "Prime number between 1 to 20 are {1,3,5,7,11,13,17,19}\n",
    "Probability of getting prime number = 8/20"
   ]
  },
  {
   "cell_type": "code",
   "execution_count": null,
   "id": "686fb699",
   "metadata": {},
   "outputs": [],
   "source": [
    "#18. \"Suzie has available the digits 0, 2, 3, 4, 5, 6, 7.\n",
    "What is the probability that when she creates a random three-digit number from\n",
    "the given digits, it will be the number 445 ?\"\n",
    "\n",
    "\n",
    "Number of ways we can generate three digit number are = 6*7*7=294\n",
    "\n",
    "P(it will be the number 445)=1/294"
   ]
  },
  {
   "cell_type": "code",
   "execution_count": null,
   "id": "1b13621a",
   "metadata": {},
   "outputs": [],
   "source": [
    "#19. \"Out of 100 pairs of shoes 5 pairs are of poor quality. The auditor selects randomly four pairs of the shoes. What is the probability that at least one\n",
    "from the selected pairs is of poor quality ?\"\n",
    "\n",
    "\n",
    "P(Pair of poor quality)= 5/100 =1/20\n",
    "The auditor selects randomly four pairs of the shoes the\n",
    "\n",
    "P(pair is poor quality) = 5_C_1(1/20)*(19/20)^4\n",
    "\n",
    "P(least one from the selected pairs is of poor quality) = 1- P(pair is poor quality)\n",
    "                                                        = 1- 5_C_1(1/20)*(19/20)^4\n"
   ]
  },
  {
   "cell_type": "code",
   "execution_count": null,
   "id": "28e28610",
   "metadata": {},
   "outputs": [],
   "source": [
    "#20. \"In the lottery 5 numbers are drawn from among 35. For 3 correctly guessed numbers lottery pays the third prize. What is the probability of winning the third prize, if we submit just one ticket with 5 guessed numbers?\"\n",
    "For 3 correctly guessed numbers lottery pays the third prize. \n",
    "What is the probability of winning the third prize, if we submit just one ticket with 5 guessed numbers ?\"\n",
    "\n",
    "\n",
    "In this case, we need to choose 3 correct numbers out of the 5 drawn.\n",
    "Therefore, the number of ways to choose 3 correct numbers from 5 is 5_C_3\n",
    "=5!/((2!)*(3!))\n",
    "\n",
    "total of 35 numbers in the lottery, and you have to choose 5 numbers on your ticket,\n",
    "the total number of possible outcomes is 35_C_5\n",
    "= 35!/((5!)*(30!))\n",
    "\n",
    "P(winning third prize)=(5!/((2!)*(3!)))/(35!/((5!)*(30!)))\n",
    "    "
   ]
  },
  {
   "cell_type": "code",
   "execution_count": null,
   "id": "a296be76",
   "metadata": {},
   "outputs": [],
   "source": [
    "#21. \"In the mall they have 100 TV sets, of which 85 are of the first and 15 are of the second \n",
    "quality. The first ten customers received the TV set of the first quality. \n",
    "What is the probability that the eleventh customer will buy the TV set of the second quality ?\"\n",
    "\n",
    "\n",
    "P(TV of first quality) = 85/100\n",
    "P(TV of second quality) = 15/100\n",
    "\n",
    "After the first ten customers, there are 85 - 10 = 75 \n",
    "\n",
    "first-quality TV sets left and 15 second-quality TV sets left.\n",
    "\n",
    "The total number of remaining TV sets is 75 + 15 = 90.\n",
    "\n",
    "P(eleventh customer buys second-quality TV)= 15/90\n",
    "\n",
    "\n"
   ]
  },
  {
   "cell_type": "code",
   "execution_count": null,
   "id": "1d8f5c23",
   "metadata": {},
   "outputs": [],
   "source": []
  },
  {
   "cell_type": "code",
   "execution_count": null,
   "id": "87a9ec60",
   "metadata": {},
   "outputs": [],
   "source": []
  },
  {
   "cell_type": "code",
   "execution_count": null,
   "id": "49d17f18",
   "metadata": {},
   "outputs": [],
   "source": []
  },
  {
   "cell_type": "code",
   "execution_count": null,
   "id": "3f38e6f5",
   "metadata": {},
   "outputs": [],
   "source": []
  },
  {
   "cell_type": "code",
   "execution_count": null,
   "id": "377de082",
   "metadata": {},
   "outputs": [],
   "source": []
  },
  {
   "cell_type": "code",
   "execution_count": null,
   "id": "e9dab8a3",
   "metadata": {},
   "outputs": [],
   "source": []
  }
 ],
 "metadata": {
  "kernelspec": {
   "display_name": "Python 3 (ipykernel)",
   "language": "python",
   "name": "python3"
  },
  "language_info": {
   "codemirror_mode": {
    "name": "ipython",
    "version": 3
   },
   "file_extension": ".py",
   "mimetype": "text/x-python",
   "name": "python",
   "nbconvert_exporter": "python",
   "pygments_lexer": "ipython3",
   "version": "3.11.4"
  }
 },
 "nbformat": 4,
 "nbformat_minor": 5
}
