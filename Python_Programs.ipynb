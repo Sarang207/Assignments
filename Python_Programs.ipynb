{
 "cells": [
  {
   "cell_type": "code",
   "execution_count": 1,
   "id": "0ae0c734",
   "metadata": {},
   "outputs": [
    {
     "name": "stdout",
     "output_type": "stream",
     "text": [
      "Lenght in CM50\n",
      "breadth in CM20\n",
      "Your area rectangle is: 1000 cm^2\n"
     ]
    }
   ],
   "source": [
    "# 1) Wap area of rectangle\n",
    "l = int(input(\"Lenght in CM\"))\n",
    "b = int(input(\"breadth in CM\"))\n",
    "a = l*b\n",
    "print(\"Your area rectangle is:\", a, \"cm^2\")"
   ]
  },
  {
   "cell_type": "code",
   "execution_count": 2,
   "id": "312b1e65",
   "metadata": {},
   "outputs": [
    {
     "name": "stdout",
     "output_type": "stream",
     "text": [
      "Enter your radius50\n",
      "Your are is: 7850.0\n"
     ]
    }
   ],
   "source": [
    "# 2) Wap area of circle\n",
    "r = int(input(\"Enter your radius\"))\n",
    "a = 3.14*(r*r)\n",
    "print(\"Your are is:\" , a)"
   ]
  },
  {
   "cell_type": "code",
   "execution_count": 4,
   "id": "83afcc15",
   "metadata": {},
   "outputs": [
    {
     "name": "stdout",
     "output_type": "stream",
     "text": [
      "Enter length10\n",
      "Enter breadth20\n",
      "Enter height10\n",
      "The area is: 1000\n"
     ]
    }
   ],
   "source": [
    "# 3) Wap area of cuboid\n",
    "l = int(input(\"Enter length\"))\n",
    "b = int(input(\"Enter breadth\"))\n",
    "h = int(input(\"Enter height\"))\n",
    "a = 2*(l*b + b*h + h*l)\n",
    "print(\"The area is:\", a)"
   ]
  },
  {
   "cell_type": "code",
   "execution_count": 5,
   "id": "043bb188",
   "metadata": {},
   "outputs": [
    {
     "name": "stdout",
     "output_type": "stream",
     "text": [
      "Enter lenght of cube5\n",
      "The area of cube is: 150\n"
     ]
    }
   ],
   "source": [
    "# 4) Wap area of cube\n",
    "a = int(input(\"Enter lenght of cube\"))\n",
    "x = 6*(a*a)\n",
    "\n",
    "print(\"The area of cube is:\", x)"
   ]
  },
  {
   "cell_type": "code",
   "execution_count": 6,
   "id": "340718ba",
   "metadata": {},
   "outputs": [
    {
     "name": "stdout",
     "output_type": "stream",
     "text": [
      "Enter radius5\n",
      "Enter height23\n",
      "Your c.s.a i: 722.2\n"
     ]
    }
   ],
   "source": [
    "# 5) Wap area of CSA of Cylinder\n",
    "\n",
    "r = int(input(\"Enter radius\"))\n",
    "h = int(input(\"Enter height\"))\n",
    "\n",
    "a = 2*(3.14*(r*h))\n",
    "print(\"Your c.s.a i:\", a)"
   ]
  },
  {
   "cell_type": "code",
   "execution_count": 7,
   "id": "cd7affa2",
   "metadata": {},
   "outputs": [
    {
     "name": "stdout",
     "output_type": "stream",
     "text": [
      "Enter radius5\n",
      "Enter height6\n",
      "Area is: 345.40000000000003\n"
     ]
    }
   ],
   "source": [
    "# 6) Wap area of TSA of Cylinder\n",
    "r = int(input(\"Enter radius\"))\n",
    "h = int(input(\"Enter height\"))\n",
    "\n",
    "a = 2*3.14*r*(r+h)\n",
    "print(\"Area is:\", a)"
   ]
  },
  {
   "cell_type": "code",
   "execution_count": 8,
   "id": "28af7a53",
   "metadata": {},
   "outputs": [
    {
     "name": "stdout",
     "output_type": "stream",
     "text": [
      "Enter radius5\n",
      "Enter lenght5\n",
      "CSA is:  78.5\n"
     ]
    }
   ],
   "source": [
    "# 7) wap area of CSA of Cone\n",
    "r = int(input(\"Enter radius\"))\n",
    "l = int(input(\"Enter lenght\"))\n",
    "\n",
    "a = 3.14*r*l\n",
    "print(\"CSA is: \",a)"
   ]
  },
  {
   "cell_type": "code",
   "execution_count": 10,
   "id": "7fe4780f",
   "metadata": {},
   "outputs": [
    {
     "name": "stdout",
     "output_type": "stream",
     "text": [
      "Enter radius5\n",
      "Enter slant height3\n",
      "The TSA is: 125.60000000000001\n"
     ]
    }
   ],
   "source": [
    "# 8) Wap area of TSA of Right Circular Cone\n",
    "r = int(input(\"Enter radius\"))\n",
    "l = int(input(\"Enter slant height\"))\n",
    "\n",
    "a = 3.14 *r*(l+r)\n",
    "\n",
    "print(\"The TSA is:\",a )"
   ]
  },
  {
   "cell_type": "code",
   "execution_count": 12,
   "id": "6846ef96",
   "metadata": {},
   "outputs": [
    {
     "name": "stdout",
     "output_type": "stream",
     "text": [
      "Enter Radius5\n",
      "TSA of Sphere is: 314.0\n"
     ]
    }
   ],
   "source": [
    "# 9) Wap TSA of Sphere\n",
    "r = int(input(\"Enter Radius\"))\n",
    "\n",
    "a = 4*(3.14*(r*r))\n",
    "print(\"TSA of Sphere is:\",a)"
   ]
  },
  {
   "cell_type": "code",
   "execution_count": 14,
   "id": "eee13d57",
   "metadata": {},
   "outputs": [
    {
     "name": "stdout",
     "output_type": "stream",
     "text": [
      "Enter Lenght: 5\n",
      " Volume of cube is:  125\n"
     ]
    }
   ],
   "source": [
    "# 10) Wap Volume of Cube\n",
    "l = int(input(\"Enter Lenght: \"))\n",
    "a = l*l*l\n",
    "\n",
    "print(\" Volume of cube is: \", a)"
   ]
  },
  {
   "cell_type": "code",
   "execution_count": 15,
   "id": "f5b7435b",
   "metadata": {},
   "outputs": [
    {
     "name": "stdout",
     "output_type": "stream",
     "text": [
      "enter length: 5\n",
      "enter breadth: 6\n",
      "enter height: 2\n",
      "Volume of Cuboid is:  60\n"
     ]
    }
   ],
   "source": [
    "# 11) Wap Volume of Cuboid\n",
    "l = int(input(\"enter length: \"))\n",
    "b = int(input(\"enter breadth: \"))\n",
    "h = int(input(\"enter height: \"))\n",
    "a = l*b*h\n",
    "print(\"Volume of Cuboid is: \", a)"
   ]
  },
  {
   "cell_type": "code",
   "execution_count": 16,
   "id": "b599a983",
   "metadata": {},
   "outputs": [
    {
     "name": "stdout",
     "output_type": "stream",
     "text": [
      "enter radius: 2\n",
      "enter height: 9\n",
      "volume is:  113.04\n"
     ]
    }
   ],
   "source": [
    "# 12) Wap Volume of Cylinder\n",
    "r = int(input(\"enter radius: \"))\n",
    "h = int( input(\"enter height: \"))\n",
    "\n",
    "v = 3.14*(r*r)*h\n",
    "print(\"volume is: \",v)"
   ]
  },
  {
   "cell_type": "code",
   "execution_count": 17,
   "id": "1a3e7723",
   "metadata": {},
   "outputs": [
    {
     "name": "stdout",
     "output_type": "stream",
     "text": [
      "Enter radius5\n",
      "enter height3\n",
      "Volume is:  78.5\n"
     ]
    }
   ],
   "source": [
    "# 13) Wap Volume of Cone\n",
    "r = int(input(\"Enter radius\"))\n",
    "h = int(input(\"enter height\"))\n",
    "\n",
    "v = 1/3*(3.14*(r*r)*h)\n",
    "\n",
    "print(\"Volume is: \",v)"
   ]
  },
  {
   "cell_type": "code",
   "execution_count": 18,
   "id": "e110e39d",
   "metadata": {},
   "outputs": [
    {
     "name": "stdout",
     "output_type": "stream",
     "text": [
      "enter radius2\n",
      "Volume is:  33.49333333333333\n"
     ]
    }
   ],
   "source": [
    "# 14) Wap volume of Sphere\n",
    "r = int(input(\"enter radius\"))\n",
    "v = 4/3 *(3.14*(r*r*r))\n",
    "\n",
    "print(\"Volume is: \", v)\n"
   ]
  },
  {
   "cell_type": "code",
   "execution_count": 19,
   "id": "73d1fd82",
   "metadata": {},
   "outputs": [
    {
     "name": "stdout",
     "output_type": "stream",
     "text": [
      "enter lenght in cm26\n",
      "enter breadth in cm12\n",
      "Perimeter of rectangle is:  76 cm\n"
     ]
    }
   ],
   "source": [
    "# 15) Wap perimeter of Rectangle\n",
    "l = int(input(\"enter lenght in cm\"))\n",
    "b = int(input(\"enter breadth in cm\"))\n",
    "\n",
    "a = 2*(l+b)\n",
    "\n",
    "print(\"Perimeter of rectangle is: \", a, \"cm\")"
   ]
  },
  {
   "cell_type": "code",
   "execution_count": 20,
   "id": "a8783bc3",
   "metadata": {},
   "outputs": [
    {
     "name": "stdout",
     "output_type": "stream",
     "text": [
      "enter lenghth in cm5\n",
      "Your are of square is:  25 cm^2\n"
     ]
    }
   ],
   "source": [
    "# 16) Wap Area of Square\n",
    "\n",
    "a = int(input(\"enter lenghth in cm\"))\n",
    "\n",
    "x = a*a\n",
    "print(\"Your are of square is: \", x, \"cm^2\")"
   ]
  },
  {
   "cell_type": "code",
   "execution_count": 21,
   "id": "1ad4845e",
   "metadata": {},
   "outputs": [
    {
     "name": "stdout",
     "output_type": "stream",
     "text": [
      "enter height: 4\n",
      "enter base: 5\n",
      "Your area is:  10.0 cm^2\n"
     ]
    }
   ],
   "source": [
    "# 17) Wap area of Triangle\n",
    "\n",
    "h = int(input(\"enter height: \"))\n",
    "b = int(input(\"enter base: \"))\n",
    "\n",
    "a = 1/2 * (b*h)\n",
    "\n",
    "print(\"Your area is: \", a, \"cm^2\")"
   ]
  },
  {
   "cell_type": "code",
   "execution_count": 23,
   "id": "32e46624",
   "metadata": {},
   "outputs": [
    {
     "name": "stdout",
     "output_type": "stream",
     "text": [
      "enter first no.: 5\n",
      "enter 2nd no.: 6\n",
      "enter 3rd no.: 7\n",
      " the greatest no. is:  7\n"
     ]
    }
   ],
   "source": [
    "# 18) Wap greatest no. in three no.\n",
    "\n",
    "a = int(input(\"enter first no.: \"))\n",
    "b = int(input(\"enter 2nd no.: \"))\n",
    "c = int(input(\"enter 3rd no.: \"))\n",
    "\n",
    "if a>b:\n",
    "    if a>c:\n",
    "        print(\"The greatest no. is: \", a)\n",
    "        \n",
    "    else:\n",
    "        print(\" the greatest no. is: \", c)\n",
    "        \n",
    "else:\n",
    "    if b>c:\n",
    "        print(\"The greatest no. is: \", b)\n",
    "        \n",
    "    else:\n",
    "        print(\" the greatest no. is: \", c)\n"
   ]
  },
  {
   "cell_type": "code",
   "execution_count": 24,
   "id": "89255dd5",
   "metadata": {},
   "outputs": [
    {
     "name": "stdout",
     "output_type": "stream",
     "text": [
      "enter first side of triangle2\n",
      "enter 2nd side of triangle3\n",
      "enter 3rd side of triangle3\n",
      "the perimeter is:  8\n"
     ]
    }
   ],
   "source": [
    "# 19) Wap Perimeter of Triangle\n",
    "\n",
    "a = int(input(\"enter first side of triangle\"))\n",
    "b = int(input(\"enter 2nd side of triangle\"))\n",
    "c = int(input(\"enter 3rd side of triangle\"))\n",
    "\n",
    "perimeter = a+b+c\n",
    "\n",
    "print(\"the perimeter is: \", perimeter)"
   ]
  },
  {
   "cell_type": "code",
   "execution_count": 25,
   "id": "342e210a",
   "metadata": {},
   "outputs": [
    {
     "name": "stdout",
     "output_type": "stream",
     "text": [
      "enter first no.: 55\n",
      "enter 2nd no.: 665\n",
      "enter 3rd no.: 65\n",
      "enter 4th no.: 665\n",
      "greatest no. is:  665.0\n"
     ]
    }
   ],
   "source": [
    "# 20) Wap Greatest no. in 4 no.\n",
    "a = float(input(\"enter first no.: \"))\n",
    "b = float(input(\"enter 2nd no.: \"))\n",
    "c = float(input(\"enter 3rd no.: \"))\n",
    "d = float(input(\"enter 4th no.: \"))\n",
    "\n",
    "if (a>b and a>c and a>d):\n",
    "    print(\"greatest no. is: \",a)\n",
    "    \n",
    "\n",
    "elif ( b>c and b>d):\n",
    "    print(\"greatest no. is: \",b)\n",
    "    \n",
    "elif (c>d):\n",
    "    print(\"greatest no. is: \",c)\n",
    "    \n",
    "elif (d>c):\n",
    "    print(\"greatest no. is: \",d)\n",
    "    \n",
    "else:\n",
    "    print(\"Either any two values or all the four values are equal\")"
   ]
  },
  {
   "cell_type": "code",
   "execution_count": 27,
   "id": "1522b5b1",
   "metadata": {},
   "outputs": [
    {
     "name": "stdout",
     "output_type": "stream",
     "text": [
      "enter marks out of 300251\n",
      "percentage is:  83.66666666666667 %\n",
      "your division is 1st\n"
     ]
    }
   ],
   "source": [
    "# 21) Wap to chech civision in result\n",
    "\n",
    "a = eval(input(\"enter marks out of 300\"))\n",
    "b = a/300 *100\n",
    "print(\"percentage is: \",b, \"%\")\n",
    "\n",
    "if (a>300):\n",
    "    print(\"you entered a wrong marks\")\n",
    "elif b>60:\n",
    "    print(\"your division is 1st\")\n",
    "elif (b>50 and b<53):\n",
    "    print(\"your division is 2nd\")\n",
    "elif (b>33 and b<50):\n",
    "    print(\"your division is 3rd\")\n",
    "    \n",
    "else:\n",
    "    print(\"fail\")\n",
    "       \n"
   ]
  },
  {
   "cell_type": "code",
   "execution_count": 28,
   "id": "40a909de",
   "metadata": {},
   "outputs": [
    {
     "name": "stdout",
     "output_type": "stream",
     "text": [
      "enter your age: 24\n",
      "younger\n"
     ]
    }
   ],
   "source": [
    "# 22) Wap to check age criteria\n",
    "\n",
    "y = int(input(\"enter your age: \"))\n",
    "if (y>0 and y<12):\n",
    "    print(\"kid\")\n",
    "elif (y>=12 and y<19):\n",
    "    print(\"teenager\")\n",
    "elif (y>19 and y<30):\n",
    "    print(\"younger\")\n",
    "elif (y>30 and y<45):\n",
    "    print(\"mature\")\n",
    "elif (y>45 and y<60):\n",
    "    print(\"experienced\")\n",
    "elif (y>60 and y<75):\n",
    "    print(\"old\")\n",
    "elif (y>75):\n",
    "    print(\"senior citizen\")"
   ]
  },
  {
   "cell_type": "code",
   "execution_count": 29,
   "id": "b0ecfe33",
   "metadata": {},
   "outputs": [
    {
     "name": "stdout",
     "output_type": "stream",
     "text": [
      "enter limit5\n",
      "the sum is:  10\n"
     ]
    }
   ],
   "source": [
    "# 23) Wap Sum of Nth no.\n",
    "n =  int(input(\"enter limit\"))\n",
    "s =0\n",
    "for c in range(1,n):\n",
    "    s = c+s\n",
    "print(\"the sum is: \", s)\n",
    "        "
   ]
  },
  {
   "cell_type": "code",
   "execution_count": 34,
   "id": "e9b2b41e",
   "metadata": {},
   "outputs": [
    {
     "name": "stdout",
     "output_type": "stream",
     "text": [
      "enter a number: 10\n",
      "The factorial of  10 is 1\n",
      "The factorial of  10 is 2\n",
      "The factorial of  10 is 6\n",
      "The factorial of  10 is 24\n",
      "The factorial of  10 is 120\n",
      "The factorial of  10 is 720\n",
      "The factorial of  10 is 5040\n",
      "The factorial of  10 is 40320\n",
      "The factorial of  10 is 362880\n",
      "The factorial of  10 is 3628800\n"
     ]
    }
   ],
   "source": [
    "# 24) Wap to check the value of factorial\n",
    "\n",
    "a = int(input(\"enter a number: \"))\n",
    "factorial = 1\n",
    "if a<0:\n",
    "    print(\"Sorry, factorial does not exist for negative number\")\n",
    "elif a==0:\n",
    "    print(\"the factorial of o is 1\")\n",
    "else:\n",
    "    for i in range(1, a+1):\n",
    "        factorial = factorial*i\n",
    "        print(\"The factorial of \", a ,\"is\", factorial)"
   ]
  },
  {
   "cell_type": "code",
   "execution_count": 35,
   "id": "3f31f743",
   "metadata": {},
   "outputs": [
    {
     "name": "stdout",
     "output_type": "stream",
     "text": [
      "Show the multiplication table of: 9\n",
      "9 x 1 = 9\n",
      "9 x 2 = 18\n",
      "9 x 3 = 27\n",
      "9 x 4 = 36\n",
      "9 x 5 = 45\n",
      "9 x 6 = 54\n",
      "9 x 7 = 63\n",
      "9 x 8 = 72\n",
      "9 x 9 = 81\n",
      "9 x 10 = 90\n"
     ]
    }
   ],
   "source": [
    "# 25) Wap to print multiplication table code\n",
    "\n",
    "a = int(input(\"Show the multiplication table of: \"))\n",
    "for i in range(1,11):\n",
    "    print(a, \"x\", i, \"=\", a*i)"
   ]
  },
  {
   "cell_type": "code",
   "execution_count": 36,
   "id": "6a6f1fe4",
   "metadata": {},
   "outputs": [
    {
     "name": "stdout",
     "output_type": "stream",
     "text": [
      "enter the number rows: 6\n",
      "* * * * * * \n",
      "* * * * * \n",
      "* * * * \n",
      "* * * \n",
      "* * \n",
      "* \n"
     ]
    }
   ],
   "source": [
    "# 26) wap to print opposite right angle tiangle\n",
    "\n",
    "num = int(input(\"enter the number rows: \"))\n",
    "\n",
    "for i in range(num,0,-1):\n",
    "    for j in range(0,i):\n",
    "        print(\"*\", end = \" \")\n",
    "    print()"
   ]
  },
  {
   "cell_type": "code",
   "execution_count": 38,
   "id": "4915d81c",
   "metadata": {},
   "outputs": [
    {
     "name": "stdout",
     "output_type": "stream",
     "text": [
      "enter the no. of rows: 5\n",
      "1 \n",
      "2 2 \n",
      "3 3 3 \n",
      "4 4 4 4 \n",
      "5 5 5 5 5 \n"
     ]
    }
   ],
   "source": [
    "# 27) wap to print 1,22,333,4444\n",
    "\n",
    "n = int(input(\"enter the no. of rows: \"))\n",
    "\n",
    "for i in range(1, n+1):\n",
    "    for j in range(1, 1+i):\n",
    "        print(i,end= \" \")\n",
    "    print()"
   ]
  },
  {
   "cell_type": "code",
   "execution_count": 39,
   "id": "a880cc3a",
   "metadata": {},
   "outputs": [
    {
     "name": "stdout",
     "output_type": "stream",
     "text": [
      "enter the number rows: 5\n",
      "          *  \n",
      "        * *  \n",
      "      * * *  \n",
      "    * * * *  \n",
      "  * * * * *  \n"
     ]
    }
   ],
   "source": [
    "# 28) Wap to print start pattern of opposite triangle\n",
    "num = int(input(\"enter the number rows: \"))\n",
    "for i in range(0,num):\n",
    "    for j in range(0,num-i):\n",
    "        print(\" \", end = \" \")\n",
    "    for k in range(0,i+1):\n",
    "        print(\"*\", end = \" \")\n",
    "    print(\" \")"
   ]
  },
  {
   "cell_type": "code",
   "execution_count": 41,
   "id": "d13073b4",
   "metadata": {},
   "outputs": [
    {
     "name": "stdout",
     "output_type": "stream",
     "text": [
      "enter the no. of rows: 10\n",
      "1 \n",
      "1 2 \n",
      "1 2 3 \n",
      "1 2 3 4 \n",
      "1 2 3 4 5 \n",
      "1 2 3 4 5 6 \n",
      "1 2 3 4 5 6 7 \n",
      "1 2 3 4 5 6 7 8 \n",
      "1 2 3 4 5 6 7 8 9 \n",
      "1 2 3 4 5 6 7 8 9 10 \n"
     ]
    }
   ],
   "source": [
    "# 29)  Wap to print pattern 1,12,123\n",
    "\n",
    "n = int(input(\"enter the no. of rows: \"))\n",
    "for i in range(1, n+1):\n",
    "    for j in range(1,i+1):\n",
    "        print(j, end = \" \")\n",
    "    print()"
   ]
  },
  {
   "cell_type": "code",
   "execution_count": 42,
   "id": "c7e1b7a7",
   "metadata": {},
   "outputs": [
    {
     "name": "stdout",
     "output_type": "stream",
     "text": [
      "enter the range10\n",
      "0\n",
      "1\n",
      "1\n",
      "2\n",
      "3\n",
      "5\n",
      "8\n",
      "13\n",
      "21\n",
      "34\n"
     ]
    }
   ],
   "source": [
    "# 31) Wap to print Fibonacci series use for loop\n",
    "\n",
    "num = int(input(\"enter the range\"))\n",
    "first_val = 0\n",
    "second_val = 1\n",
    "\n",
    "for i in range(0,num):\n",
    "    if(i<=1):\n",
    "        NEXT =i\n",
    "    else:\n",
    "        NEXT = first_val +second_val\n",
    "        first_val = second_val\n",
    "        second_val = NEXT\n",
    "    print(NEXT)"
   ]
  },
  {
   "cell_type": "code",
   "execution_count": 44,
   "id": "76500e38",
   "metadata": {},
   "outputs": [
    {
     "name": "stdout",
     "output_type": "stream",
     "text": [
      "Enter the character: F\n",
      "A\n",
      "AB\n",
      "ABC\n",
      "ABCD\n",
      "ABCDE\n",
      "ABCDEF\n"
     ]
    }
   ],
   "source": [
    "# 32) Wap to print pattern A, AB, ABC\n",
    "\n",
    "ch = str(input(\"Enter the character: \"))\n",
    "a = ord(ch)\n",
    "\n",
    "for x in range(65, a+1):\n",
    "    for c in range(65,x+1):\n",
    "        print(chr(c), end = \"\")\n",
    "    print(\"\")\n"
   ]
  },
  {
   "cell_type": "code",
   "execution_count": 45,
   "id": "147d483b",
   "metadata": {},
   "outputs": [
    {
     "name": "stdout",
     "output_type": "stream",
     "text": [
      "enter no.: 5\n",
      "enter power: 6\n",
      "15625\n"
     ]
    }
   ],
   "source": [
    "# 33) Wap to calculation of X^n by for loop\n",
    "x = int(input(\"enter no.: \"))\n",
    "b = int(input(\"enter power: \"))\n",
    "\n",
    "y =x\n",
    "for i in range(0, b-1):\n",
    "    y = x*y\n",
    "print(y)"
   ]
  },
  {
   "cell_type": "code",
   "execution_count": 46,
   "id": "5379cb85",
   "metadata": {},
   "outputs": [
    {
     "name": "stdout",
     "output_type": "stream",
     "text": [
      "enter number: 5\n",
      "enter power54\n",
      "55511151231257827021181583404541015625\n"
     ]
    }
   ],
   "source": [
    "# 33) Wap to calculation of x^n\n",
    "\n",
    "a = int(input(\"enter number: \"))\n",
    "b = int(input(\"enter power\"))\n",
    "c = a**b\n",
    "print(c)"
   ]
  },
  {
   "cell_type": "code",
   "execution_count": 47,
   "id": "257a0fcb",
   "metadata": {},
   "outputs": [
    {
     "name": "stdout",
     "output_type": "stream",
     "text": [
      "enter number121\n",
      "the number is palindrome\n"
     ]
    }
   ],
   "source": [
    "# 34) wap to print integer is palindrome or not palindrome\n",
    "\n",
    "n = int(input(\"enter number\"))\n",
    "\n",
    "x =n \n",
    "r = 0\n",
    "while n>0:\n",
    "    d = n%10\n",
    "    r = r*10+d\n",
    "    n = n//10\n",
    "if x==r:\n",
    "    print(\"the number is palindrome\")\n",
    "else:\n",
    "    print(\"thr number is not palindrome\")"
   ]
  },
  {
   "cell_type": "code",
   "execution_count": 51,
   "id": "50e4eb5d",
   "metadata": {},
   "outputs": [
    {
     "name": "stdout",
     "output_type": "stream",
     "text": [
      "enter the element of list: 5\n",
      "do you want to enter more element: Y\n",
      "enter the element of list: 5\n",
      "do you want to enter more element: Y\n",
      "enter the element of list: 10\n",
      "do you want to enter more element: N\n",
      "the list is:  [5, 5, 10]\n",
      "the factorial of each element is:  [1, 2, 6, 24, 120]\n",
      "the factorial of each element is:  [1, 2, 6, 24, 120, 1, 2, 6, 24, 120]\n",
      "the factorial of each element is:  [1, 2, 6, 24, 120, 1, 2, 6, 24, 120, 1, 2, 6, 24, 120, 720, 5040, 40320, 362880, 3628800]\n"
     ]
    }
   ],
   "source": [
    "# 35) Wap to print factorial of list\n",
    "a = []\n",
    "fact = []\n",
    "ch = \"y\"\n",
    "while ch==\"y\" or ch==\"Y\":\n",
    "    item = int(input(\"enter the element of list: \"))\n",
    "    a.append(item)\n",
    "    ch = input(\"do you want to enter more element: \")\n",
    "print(\"the list is: \", a)\n",
    "for i in a:\n",
    "    f=1\n",
    "    for j in range (1, i+1):\n",
    "        f = f*j\n",
    "        fact.append(f)\n",
    "    print(\"the factorial of each element is: \", fact)"
   ]
  },
  {
   "cell_type": "code",
   "execution_count": 52,
   "id": "636d5408",
   "metadata": {},
   "outputs": [
    {
     "name": "stdout",
     "output_type": "stream",
     "text": [
      "enter rows10\n",
      "         * \n",
      "        * * \n",
      "       * * * \n",
      "      * * * * \n",
      "     * * * * * \n",
      "    * * * * * * \n",
      "   * * * * * * * \n",
      "  * * * * * * * * \n",
      " * * * * * * * * * \n",
      "* * * * * * * * * * \n"
     ]
    }
   ],
   "source": [
    "# 36)  Wap to print PASCAL Triangle\n",
    "n = int(input(\"enter rows\"))\n",
    "\n",
    "for i in range(0,n):\n",
    "    for j in range(0, n -i-1):\n",
    "        print(end = \" \")\n",
    "    for j in range(0,i+1):\n",
    "        print(\"*\", end = \" \")\n",
    "    print()"
   ]
  },
  {
   "cell_type": "code",
   "execution_count": 55,
   "id": "5dec5c2b",
   "metadata": {},
   "outputs": [
    {
     "name": "stdout",
     "output_type": "stream",
     "text": [
      "enter limit 4\n",
      "enter element12\n",
      "enter element32\n",
      "enter element321\n",
      "enter element21\n",
      "[12, 32, 321, 21]\n"
     ]
    }
   ],
   "source": [
    "# 37) Wap to create a list of values inputted by user\n",
    "\n",
    "a = eval(input(\"enter limit \"))\n",
    "n = []\n",
    "for a in range(1, a+1):\n",
    "    a=eval(input(\"enter element \"))\n",
    "    n.append(a)\n",
    "print(n)"
   ]
  },
  {
   "cell_type": "code",
   "execution_count": 56,
   "id": "0121358f",
   "metadata": {},
   "outputs": [
    {
     "name": "stdout",
     "output_type": "stream",
     "text": [
      "enter limit 4\n",
      "enter element 25\n",
      "enter element 62\n",
      "enter element 255\n",
      "enter element 552\n",
      "[25, 62, 255, 552]\n",
      "after sorting the list is \n",
      "[25, 62, 255, 552]\n"
     ]
    }
   ],
   "source": [
    "# 38)wap to create a list of values inputted user and sort in increasing order \n",
    "\n",
    "a = eval(input(\"enter limit \"))\n",
    "lst = []\n",
    "\n",
    "for a in range(1, a+1):\n",
    "    a = eval(input(\"enter element \"))\n",
    "    lst.append(a)\n",
    "print(lst)\n",
    "l = len(lst)\n",
    "for i in range(l):\n",
    "    for j in range(0,1-i-1):\n",
    "        if lst[j]>lst[j+1]:\n",
    "            temp=lst[j]\n",
    "            lst[j]= lst[j+1]\n",
    "            lst[j+1]= temp\n",
    "print(\"after sorting the list is \")\n",
    "print(lst)"
   ]
  },
  {
   "cell_type": "code",
   "execution_count": null,
   "id": "e4234609",
   "metadata": {},
   "outputs": [],
   "source": [
    "# 39)  Sorting in Ascending order use Bubble sort\n",
    "\n",
    "a = eval(input(\"enter limit \"))\n",
    "lst = []\n",
    "\n",
    "for a in range(1, a+1):\n",
    "    a = eval(input(\"enter element \"))\n",
    "    lst.append(a)\n",
    "print(lst)\n",
    "l = len(lst)\n",
    "for i in range(l):\n",
    "    for j in range(0,1-i-1):\n",
    "        if lst[j]>lst[j+1]:\n",
    "            temp=lst[j]\n",
    "            lst[j]= lst[j+1]\n",
    "            lst[j+1]= temp\n",
    "print(\"after sorting the list is \")\n",
    "print(lst)"
   ]
  },
  {
   "cell_type": "code",
   "execution_count": 60,
   "id": "dfd35a29",
   "metadata": {},
   "outputs": [
    {
     "name": "stdout",
     "output_type": "stream",
     "text": [
      "enter limit 2\n",
      "enter mobile number 9511953207\n",
      "enter name Sandesh Pednekar\n",
      "enter mobile number 8007183930\n",
      "enter name Ishwar Pednekar\n",
      "{9511953207: 'Sandesh Pednekar', 8007183930: 'Ishwar Pednekar'}\n",
      "enter the no. to search in dictionary 9511953207\n",
      "the name of person is  Sandesh Pednekar\n"
     ]
    }
   ],
   "source": [
    "# 40) Wap in Python to create a phone dictionary\n",
    "n = int(input(\"enter limit \"))\n",
    "m = {}\n",
    "mob = 0\n",
    "name=\" \"\n",
    "i = 0\n",
    "for i in range(0,n):\n",
    "    mob = int(input(\"enter mobile number \"))\n",
    "    name = str(input(\"enter name \"))\n",
    "    z = dict({mob:name})\n",
    "    m.update(z)\n",
    "    \n",
    "print(m)\n",
    "n = int(input(\"enter the no. to search in dictionary \"))\n",
    "print(\"the name of person is \", m[n])"
   ]
  },
  {
   "cell_type": "code",
   "execution_count": 61,
   "id": "78bf4ab6",
   "metadata": {},
   "outputs": [
    {
     "name": "stdout",
     "output_type": "stream",
     "text": [
      "enter number 5\n",
      "5 is prime number\n"
     ]
    }
   ],
   "source": [
    "# 41) Wap to find given number s prime or not\n",
    "num = int(input(\"enter number \"))\n",
    "lim = int(num/2)+1\n",
    "\n",
    "for i in range(2,lim):\n",
    "    rem = num%i\n",
    "    if rem==0:\n",
    "        print(nym, \"is not prime number \")\n",
    "        break\n",
    "        \n",
    "else:\n",
    "    print(num, \"is prime number\")"
   ]
  },
  {
   "cell_type": "code",
   "execution_count": 62,
   "id": "cf066968",
   "metadata": {},
   "outputs": [
    {
     "name": "stdout",
     "output_type": "stream",
     "text": [
      "enter number 454\n",
      "454 is even number \n"
     ]
    }
   ],
   "source": [
    "# 42) wap to find gi ven number is even or odd\n",
    "a = int(input(\"enter number \"))\n",
    "r = a%2\n",
    "\n",
    "if r == 0:\n",
    "    print(a,\"is even number \")\n",
    "    \n",
    "elif r>0:\n",
    "    print(a, \"is odd number \")\n",
    "else:\n",
    "    print(\"you enter anumber 0 or less than 0\")"
   ]
  },
  {
   "cell_type": "code",
   "execution_count": 64,
   "id": "e05badeb",
   "metadata": {},
   "outputs": [
    {
     "name": "stdout",
     "output_type": "stream",
     "text": [
      "enter limit 4\n",
      "emter element 5\n",
      "emter element 254\n",
      "emter element 254\n",
      "emter element 254\n",
      "tuple is (5, 254, 254, 254)\n"
     ]
    }
   ],
   "source": [
    "# 43) Wap too create a tuple of values inputed by user\n",
    "a = ()\n",
    "l = []\n",
    "\n",
    "n = int(input(\"enter limit \"))\n",
    "for i in range(0,n):\n",
    "    item = int(input(\"emter element \" ))\n",
    "    l.append(item)\n",
    "a = a+tuple(l)\n",
    "print(\"tuple is\", a)"
   ]
  },
  {
   "cell_type": "code",
   "execution_count": 65,
   "id": "2f3e15c5",
   "metadata": {},
   "outputs": [
    {
     "name": "stdout",
     "output_type": "stream",
     "text": [
      "enter the integer 54\n",
      " the reversed integer is:  45\n"
     ]
    }
   ],
   "source": [
    "# 44) Wap to reverse an integer \n",
    "n = int(input(\"enter the integer \"))\n",
    "x = n\n",
    "r = 0 \n",
    "while n>0:\n",
    "    d = n%10\n",
    "    r = r*10+d\n",
    "    n = n//10\n",
    "print(\" the reversed integer is: \",r)"
   ]
  },
  {
   "cell_type": "code",
   "execution_count": null,
   "id": "66d39079",
   "metadata": {},
   "outputs": [],
   "source": []
  }
 ],
 "metadata": {
  "kernelspec": {
   "display_name": "Python 3 (ipykernel)",
   "language": "python",
   "name": "python3"
  },
  "language_info": {
   "codemirror_mode": {
    "name": "ipython",
    "version": 3
   },
   "file_extension": ".py",
   "mimetype": "text/x-python",
   "name": "python",
   "nbconvert_exporter": "python",
   "pygments_lexer": "ipython3",
   "version": "3.11.5"
  }
 },
 "nbformat": 4,
 "nbformat_minor": 5
}
