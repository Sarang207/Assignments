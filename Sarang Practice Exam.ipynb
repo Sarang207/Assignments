{
 "cells": [
  {
   "cell_type": "raw",
   "id": "e8159225",
   "metadata": {},
   "source": [
    "1.Given an integer, n, perform the following conditional actions:\n",
    "•If  n is odd, print Weird \n",
    "•If n is even and in the inclusive range of 2 to 5, print Not Weird\n",
    "•If n is even and in the inclusive range of 6 to 20, print Weird\n",
    "•If n is even greater than 20, print Not Weird\n",
    "n = 3 "
   ]
  },
  {
   "cell_type": "code",
   "execution_count": 1,
   "id": "29d2296c",
   "metadata": {},
   "outputs": [
    {
     "name": "stdout",
     "output_type": "stream",
     "text": [
      "Weird\n"
     ]
    }
   ],
   "source": [
    "n = 3\n",
    "if n % 2 !=0:\n",
    "    print(\"Weird\")\n",
    "elif n % 2 ==0 and 2 <= n <= 5:\n",
    "    print(\"Not weird\")\n",
    "elif n % 2 ==0 and 6 <= n <= 20:\n",
    "    print(\"Weird\")\n",
    "elif n % 2 == 0 and n>20:\n",
    "    print(\"Not Weird\")"
   ]
  },
  {
   "cell_type": "raw",
   "id": "3eeecc9c",
   "metadata": {},
   "source": [
    "2.The list of non-negative integers that are less than n = 3 is [ 0, 1, 2 ]. Print the square of each number on a separate line"
   ]
  },
  {
   "cell_type": "code",
   "execution_count": 2,
   "id": "774fccbc",
   "metadata": {},
   "outputs": [
    {
     "name": "stdout",
     "output_type": "stream",
     "text": [
      "0\n",
      "1\n",
      "4\n"
     ]
    }
   ],
   "source": [
    "n = 3\n",
    "for i in range(n):\n",
    "    print(i**2)"
   ]
  },
  {
   "cell_type": "raw",
   "id": "d447f056",
   "metadata": {},
   "source": [
    "3.You are given three integers x, y and z representing the dimensions of a cuboid along with an integer n. Print a list of all possible coordinates given by (i, j, k) on a 3D grid where the sum of i + j + k is not equal to n. Here, 0 <= i <= x; 0 <= j <= y; 0 <= k <= z. Please use list comprehensions rather than multiple loops, as a learning exercise"
   ]
  },
  {
   "cell_type": "code",
   "execution_count": 6,
   "id": "7764917e",
   "metadata": {},
   "outputs": [
    {
     "name": "stdout",
     "output_type": "stream",
     "text": [
      "[(0, 0, 0), (0, 0, 1), (0, 1, 0), (1, 0, 0), (1, 1, 1)]\n"
     ]
    }
   ],
   "source": [
    "x,y,z,n = 1,1,1,2\n",
    "coordinates = [(i,j,k) for i in range(x+1) for j in range(y+1) for k in range(z+1) if (i+j+k)!= n]\n",
    "print(coordinates)"
   ]
  },
  {
   "cell_type": "raw",
   "id": "1f6a3f6d",
   "metadata": {},
   "source": [
    "4.Given the participants’ score sheet for your University Sports Day, you are required to find the runner-up score. You are given n scores. Store them in a list and find the score of the runner-up\n",
    "Given list is [2, 3, 6, 6, 5]"
   ]
  },
  {
   "cell_type": "code",
   "execution_count": 7,
   "id": "81d34652",
   "metadata": {},
   "outputs": [
    {
     "name": "stdout",
     "output_type": "stream",
     "text": [
      "5\n"
     ]
    }
   ],
   "source": [
    "scores = [2,3,6,6,5]\n",
    "unique_scores = list(set(scores))\n",
    "sorted_scores = sorted(unique_scores,reverse=True)\n",
    "runner_up_score = sorted_scores[1]\n",
    "print(runner_up_score)"
   ]
  },
  {
   "cell_type": "raw",
   "id": "5f0d3db8",
   "metadata": {},
   "source": [
    "5.The provided code stub read in a dictionary containing key/value pairs of name:[Marks] for a list of students. Print the average of the marks array for the student name provided, showing 2 places after the decimal\n",
    "\n",
    "marks key: value pairs are\n",
    "‘alpha’:[20, 30, 40]\n",
    "‘beta’:[30, 50, 70]"
   ]
  },
  {
   "cell_type": "code",
   "execution_count": 4,
   "id": "478222d6",
   "metadata": {},
   "outputs": [
    {
     "name": "stdout",
     "output_type": "stream",
     "text": [
      "Enter student name: beta\n",
      "Average marks for beta: 50.00\n"
     ]
    }
   ],
   "source": [
    "# Question : 5\n",
    "marks = {'alpha':[20,30,40],'beta':[30,50,70]}\n",
    "name = input(\"Enter student name: \")\n",
    "if name in marks:\n",
    "    avg_marks = sum(marks[name]) / len(marks[name])\n",
    "    print(f\"Average marks for {name}: {avg_marks:.2f}\")\n",
    "else:\n",
    "    print(f\"{name} not found in marks dictionary.\")"
   ]
  },
  {
   "cell_type": "raw",
   "id": "04bf0f26",
   "metadata": {},
   "source": [
    "6.You are given a string and your task is to swap cases. In other words, convert all lowercase letters to uppercase letters and vice versa."
   ]
  },
  {
   "cell_type": "code",
   "execution_count": 9,
   "id": "58ff2beb",
   "metadata": {},
   "outputs": [
    {
     "name": "stdout",
     "output_type": "stream",
     "text": [
      "sARANGkALE\n"
     ]
    }
   ],
   "source": [
    "# Question : 6\n",
    "string = \"SarangKale\"\n",
    "swap_string = string.swapcase()\n",
    "print(swap_string)"
   ]
  },
  {
   "cell_type": "raw",
   "id": "229a09b8",
   "metadata": {},
   "source": [
    "7.You are given a string. Split the string on a ” ” (space) delimiter and join using a – hyphen."
   ]
  },
  {
   "cell_type": "code",
   "execution_count": 11,
   "id": "42fa0d4c",
   "metadata": {},
   "outputs": [
    {
     "name": "stdout",
     "output_type": "stream",
     "text": [
      "Split_This_String\n"
     ]
    }
   ],
   "source": [
    "# Question : 7\n",
    "string = \"Split This String\"\n",
    "N_string = \"_\".join(string.split())\n",
    "print(N_string)"
   ]
  },
  {
   "cell_type": "raw",
   "id": "daa603b3",
   "metadata": {},
   "source": [
    "8.In this challenge, the user enters a string and a substring. You have to print the number of times that the substring occurs in the given string. String traversal will take place from left to right, not from right to left"
   ]
  },
  {
   "cell_type": "code",
   "execution_count": 5,
   "id": "50ad3ae0",
   "metadata": {},
   "outputs": [
    {
     "name": "stdout",
     "output_type": "stream",
     "text": [
      "4\n"
     ]
    }
   ],
   "source": [
    "# Question : 8\n",
    "m = \"Sagar is animal\"\n",
    "s = \"a\"\n",
    "c = m.count(s)\n",
    "print(c)"
   ]
  },
  {
   "cell_type": "raw",
   "id": "75996353",
   "metadata": {},
   "source": [
    "9.You are given a string S.\n",
    "Your task is to find out if the string S contains: alphanumeric characters, alphabetical characters, digits, lowercase and uppercase characters."
   ]
  },
  {
   "cell_type": "code",
   "execution_count": 13,
   "id": "77a86221",
   "metadata": {},
   "outputs": [
    {
     "name": "stdout",
     "output_type": "stream",
     "text": [
      "True\n",
      "False\n",
      "False\n",
      "False\n",
      "False\n"
     ]
    }
   ],
   "source": [
    "# Question : 9\n",
    "string = \"abc123XYZ\"\n",
    "print(string.isalnum())\n",
    "print(string.isalpha())\n",
    "print(string.isdigit())\n",
    "print(string.islower())\n",
    "print(string.isupper())"
   ]
  },
  {
   "cell_type": "raw",
   "id": "0e01f782",
   "metadata": {},
   "source": [
    "10.Write a Python program to check that a string contains only a certain set of characters (in this case a-z, A-Z and 0-9)"
   ]
  },
  {
   "cell_type": "code",
   "execution_count": 6,
   "id": "b9563486",
   "metadata": {},
   "outputs": [
    {
     "name": "stdout",
     "output_type": "stream",
     "text": [
      "True\n"
     ]
    }
   ],
   "source": [
    "# Question : 10\n",
    "chars = set(\"abcdefghijklmnopqrstuvwxyzABCDEFGHIJKLMNOPQRSTUVWXYZ0123456789\")\n",
    "st = \"SaranG243\"\n",
    "print(all(char in chars for char in st))"
   ]
  },
  {
   "cell_type": "raw",
   "id": "439b9d7d",
   "metadata": {},
   "source": [
    "11.Write a Python program that matches a string that has an a followed by zero or more b's"
   ]
  },
  {
   "cell_type": "code",
   "execution_count": 16,
   "id": "e457c865",
   "metadata": {},
   "outputs": [
    {
     "data": {
      "text/plain": [
       "re.compile(r'ab*', re.UNICODE)"
      ]
     },
     "execution_count": 16,
     "metadata": {},
     "output_type": "execute_result"
    }
   ],
   "source": [
    "# Question : 11\n",
    "import re\n",
    "pattern = re.compile(r'ab*')\n",
    "pattern"
   ]
  },
  {
   "cell_type": "raw",
   "id": "71c20bd1",
   "metadata": {},
   "source": [
    "12.Write a Python program that matches a string that has an a followed by one or more b's"
   ]
  },
  {
   "cell_type": "code",
   "execution_count": 17,
   "id": "ff20e8f5",
   "metadata": {},
   "outputs": [
    {
     "data": {
      "text/plain": [
       "re.compile(r'ab+', re.UNICODE)"
      ]
     },
     "execution_count": 17,
     "metadata": {},
     "output_type": "execute_result"
    }
   ],
   "source": [
    "# Question : 12\n",
    "pattern = re.compile(r'ab+')\n",
    "pattern"
   ]
  },
  {
   "cell_type": "raw",
   "id": "d591979b",
   "metadata": {},
   "source": [
    "13.Write a Python program that matches a string that has an a followed by three 'b'"
   ]
  },
  {
   "cell_type": "code",
   "execution_count": 19,
   "id": "3d596d7a",
   "metadata": {},
   "outputs": [
    {
     "data": {
      "text/plain": [
       "re.compile(r'ab{3}', re.UNICODE)"
      ]
     },
     "execution_count": 19,
     "metadata": {},
     "output_type": "execute_result"
    }
   ],
   "source": [
    "# Question : 13\n",
    "pattern = re.compile(r'ab{3}')\n",
    "pattern"
   ]
  },
  {
   "cell_type": "raw",
   "id": "3985afd1",
   "metadata": {},
   "source": [
    "14.Write a Python program that matches a string that has an a followed by two to three 'b'"
   ]
  },
  {
   "cell_type": "code",
   "execution_count": 20,
   "id": "45135fa8",
   "metadata": {},
   "outputs": [
    {
     "data": {
      "text/plain": [
       "re.compile(r'ab{2,3}', re.UNICODE)"
      ]
     },
     "execution_count": 20,
     "metadata": {},
     "output_type": "execute_result"
    }
   ],
   "source": [
    "# Question : 14\n",
    "pattern = re.compile(r'ab{2,3}')\n",
    "pattern"
   ]
  },
  {
   "cell_type": "raw",
   "id": "ec49eff4",
   "metadata": {},
   "source": [
    "15.Write a Python program to find sequences of lowercase letters joined with a underscore."
   ]
  },
  {
   "cell_type": "code",
   "execution_count": 21,
   "id": "a547ca26",
   "metadata": {},
   "outputs": [
    {
     "name": "stdout",
     "output_type": "stream",
     "text": [
      "['sequence_one', 'sequence_two']\n"
     ]
    }
   ],
   "source": [
    "# Question : 15\n",
    "string = \"sequence_one_sequence_two\"\n",
    "pattern = re.compile(r'[a-z]+_[a-z]+')\n",
    "matches = pattern.findall(string)\n",
    "print(matches)"
   ]
  },
  {
   "cell_type": "raw",
   "id": "09854386",
   "metadata": {},
   "source": [
    "16.Write a Python program to find the sequences of one upper case letter followed by lower case letters."
   ]
  },
  {
   "cell_type": "code",
   "execution_count": 22,
   "id": "201ef3c1",
   "metadata": {},
   "outputs": [
    {
     "name": "stdout",
     "output_type": "stream",
     "text": [
      "['Asequence']\n"
     ]
    }
   ],
   "source": [
    "# Question : 16\n",
    "string = \"Asequence_bsequence\"\n",
    "pattern = re.compile(r'[A-Z][a-z]+')\n",
    "mt = pattern.findall(string)\n",
    "print(mt)"
   ]
  },
  {
   "cell_type": "raw",
   "id": "a39383ef",
   "metadata": {},
   "source": [
    "17.Write a Python program that matches a string that has an 'a' followed by anything, ending in 'b'."
   ]
  },
  {
   "cell_type": "code",
   "execution_count": 23,
   "id": "6e9f3ec6",
   "metadata": {},
   "outputs": [
    {
     "name": "stdout",
     "output_type": "stream",
     "text": [
      "True\n"
     ]
    }
   ],
   "source": [
    "# Question : 17\n",
    "string = \"axxxxxb\"\n",
    "pattern = re.compile(r'a.*b$')\n",
    "mt = pattern.match(string)\n",
    "print(bool(mt))"
   ]
  },
  {
   "cell_type": "raw",
   "id": "f38d4e3a",
   "metadata": {},
   "source": [
    "18. Write a Python program that matches a word at the beginning of a string."
   ]
  },
  {
   "cell_type": "code",
   "execution_count": 24,
   "id": "bd409ec7",
   "metadata": {},
   "outputs": [
    {
     "name": "stdout",
     "output_type": "stream",
     "text": [
      "True\n"
     ]
    }
   ],
   "source": [
    "# Question : 18\n",
    "string = \"Word at the beginning\"\n",
    "pattern = re.compile(r'^Word')\n",
    "mt = pattern.match(string)\n",
    "print(bool(mt))"
   ]
  },
  {
   "cell_type": "raw",
   "id": "de30348d",
   "metadata": {},
   "source": [
    "19.Write a Python program that matches a word at the end of string, with optional punctuation."
   ]
  },
  {
   "cell_type": "code",
   "execution_count": 26,
   "id": "9b388e2e",
   "metadata": {},
   "outputs": [
    {
     "name": "stdout",
     "output_type": "stream",
     "text": [
      "True\n"
     ]
    }
   ],
   "source": [
    "# Question : 19\n",
    "string = \"Ends with word\"\n",
    "pattern = re.compile(r'word[.,]*$')\n",
    "mt = pattern.search(string)\n",
    "print(bool(mt))"
   ]
  },
  {
   "cell_type": "raw",
   "id": "57673e31",
   "metadata": {},
   "source": [
    "20.Write a Python program that matches a word containing 'z', not at the start or end of the word."
   ]
  },
  {
   "cell_type": "code",
   "execution_count": 27,
   "id": "4b8f2ca1",
   "metadata": {},
   "outputs": [
    {
     "name": "stdout",
     "output_type": "stream",
     "text": [
      "None\n"
     ]
    }
   ],
   "source": [
    "# Question : 20\n",
    "string = \"Contains z somewhere\"\n",
    "pattern = re.compile(r'\\\\b[^z\\s]+\\w*z[^z\\s]+\\b')\n",
    "match = pattern.search(string)\n",
    "print(match)"
   ]
  },
  {
   "cell_type": "raw",
   "id": "62a65969",
   "metadata": {},
   "source": [
    "21. Write a Python program where a string will start with a specific number."
   ]
  },
  {
   "cell_type": "code",
   "execution_count": 28,
   "id": "f0d89bcb",
   "metadata": {},
   "outputs": [
    {
     "name": "stdout",
     "output_type": "stream",
     "text": [
      "True\n"
     ]
    }
   ],
   "source": [
    "# Question : 21\n",
    "string = \"42StartsWithNumber\"\n",
    "pattern = re.compile(r'^\\d+')\n",
    "match = pattern.match(string)\n",
    "print(bool(match))"
   ]
  },
  {
   "cell_type": "raw",
   "id": "513e8d99",
   "metadata": {},
   "source": [
    "22.Write a Python program to check for a number at the end of a string."
   ]
  },
  {
   "cell_type": "code",
   "execution_count": 29,
   "id": "d5c16f5a",
   "metadata": {},
   "outputs": [
    {
     "name": "stdout",
     "output_type": "stream",
     "text": [
      "False\n"
     ]
    }
   ],
   "source": [
    "# Question : 22\n",
    "string = \"StartsWithNumber42\"\n",
    "pattern = re.compile(r'\\d+$')\n",
    "match = pattern.match(string)\n",
    "print(bool(match))"
   ]
  },
  {
   "cell_type": "raw",
   "id": "0261be0c",
   "metadata": {},
   "source": [
    "23.Write a Python program to search the numbers (0-9) of length between 1 to 3 in a given string."
   ]
  },
  {
   "cell_type": "code",
   "execution_count": 3,
   "id": "1baf9230",
   "metadata": {},
   "outputs": [
    {
     "name": "stdout",
     "output_type": "stream",
     "text": [
      "['1', '12', '13', '345']\n"
     ]
    }
   ],
   "source": [
    "import re\n",
    "\n",
    "def find_numbers(text):\n",
    "    pattern = r'\\b\\d{1,3}\\b'\n",
    "    matches = re.findall(pattern, text)\n",
    "    return matches\n",
    "text1 = \"Exercises number 1, 12, 13, and 345 are important\"\n",
    "print(find_numbers(text1))"
   ]
  },
  {
   "cell_type": "raw",
   "id": "e2e7bdc9",
   "metadata": {},
   "source": [
    "24.Write a Python program to search some literals strings in a string. Go to the editor Sample text : 'The quick brown fox jumps over the lazy dog.' Searched words : 'fox', 'dog', 'horse'"
   ]
  },
  {
   "cell_type": "code",
   "execution_count": 8,
   "id": "7aa7c177",
   "metadata": {},
   "outputs": [
    {
     "name": "stdout",
     "output_type": "stream",
     "text": [
      "Matched!\n",
      "Matched!\n",
      "Not Matched!\n"
     ]
    }
   ],
   "source": [
    "patterns = ['fox', 'dog', 'horse']\n",
    "text = 'the quick brown fox jumps over the lazy dog.'\n",
    "\n",
    "for pattern in patterns:\n",
    "    if re.search(pattern, text):\n",
    "        print('Matched!')\n",
    "    else:\n",
    "        print('Not Matched!')"
   ]
  },
  {
   "cell_type": "raw",
   "id": "90cff70b",
   "metadata": {},
   "source": [
    "25.Write a Python program to search a literals string in a string and also find the location within the original string where the pattern occurs\n",
    "Sample text : 'The quick brown fox jumps over the lazy dog.' Searched words : 'fox'"
   ]
  },
  {
   "cell_type": "code",
   "execution_count": 9,
   "id": "177534bb",
   "metadata": {},
   "outputs": [
    {
     "name": "stdout",
     "output_type": "stream",
     "text": [
      "<re.Match object; span=(16, 19), match='fox'>\n",
      "First location of pattern is 16\n"
     ]
    }
   ],
   "source": [
    "string = \"The quick brown fox jumps over the lazy dog.\"\n",
    "x = re.search(\"fox\",string)\n",
    "print(x)\n",
    "if x:\n",
    "    print('First location of pattern is',x.start())\n",
    "else:\n",
    "    print(\"No match\")"
   ]
  },
  {
   "cell_type": "raw",
   "id": "c0f67e12",
   "metadata": {},
   "source": [
    "26.Write a Python program to find the substrings within a string.\n",
    "Sample text :\n",
    "'Python exercises, PHP exercises, C# exercises'\n",
    "Pattern :\n",
    "'exercises'\n",
    "Note: There are two instances of exercises in the input string"
   ]
  },
  {
   "cell_type": "code",
   "execution_count": 10,
   "id": "8476c041",
   "metadata": {},
   "outputs": [
    {
     "name": "stdout",
     "output_type": "stream",
     "text": [
      "['exercises', 'exercises', 'exercises']\n"
     ]
    }
   ],
   "source": [
    "def find_substrings(text, pattern):\n",
    "    matches = re.findall(pattern, text) \n",
    "    return matches \n",
    "text = 'Python exercises, PHP exercises, C# exercises'\n",
    "pattern = 'exercises'\n",
    "print(find_substrings(text, pattern)) "
   ]
  },
  {
   "cell_type": "raw",
   "id": "6a63dfc3",
   "metadata": {},
   "source": [
    "27. Write a Python program to find the occurrence and position of the substrings within a string"
   ]
  },
  {
   "cell_type": "code",
   "execution_count": 11,
   "id": "3a950ce9",
   "metadata": {},
   "outputs": [
    {
     "name": "stdout",
     "output_type": "stream",
     "text": [
      "Found \"exercises\" at 7:16\n",
      "Found \"exercises\" at 22:31\n",
      "Found \"exercises\" at 36:45\n"
     ]
    }
   ],
   "source": [
    "text = 'Python exercises, PHP exercises, C# exercises'\n",
    "pattern = 'exercises'\n",
    "\n",
    "for match in re.finditer(pattern, text):\n",
    "    print(f'Found \"{match.group()}\" at {match.start()}:{match.end()}')"
   ]
  },
  {
   "cell_type": "raw",
   "id": "0e57a381",
   "metadata": {},
   "source": [
    "28. Write a Python program to replace whitespaces with an underscore and vice versa."
   ]
  },
  {
   "cell_type": "code",
   "execution_count": 12,
   "id": "48abba1f",
   "metadata": {},
   "outputs": [
    {
     "name": "stdout",
     "output_type": "stream",
     "text": [
      "Python_exercises\n",
      "Python exercises\n"
     ]
    }
   ],
   "source": [
    "text = 'Python exercises'\n",
    "text = text.replace(' ', '_')\n",
    "print(text)\n",
    "\n",
    "text1 = text.replace('_', ' ')\n",
    "print(text1)"
   ]
  },
  {
   "cell_type": "raw",
   "id": "8f265675",
   "metadata": {},
   "source": [
    "29. Write a Python program to extract year, month and date from a an url."
   ]
  },
  {
   "cell_type": "code",
   "execution_count": 13,
   "id": "998a7d5c",
   "metadata": {},
   "outputs": [
    {
     "name": "stdout",
     "output_type": "stream",
     "text": [
      "The year, month, and date extracted from the URL are: [('2016', '09', '02')]\n"
     ]
    }
   ],
   "source": [
    "def extract_date(url):\n",
    "    return re.findall(r'/(\\d{4})/(\\d{1,2})/(\\d{1,2})/', url)\n",
    "\n",
    "url = \"https://www.washingtonpost.com/news/football-insider/wp/2016/09/02/odell-beckhams-fame-rests-on-one-stupid-little-ball-josh-norman-tells-author/\"\n",
    "print(f\"The year, month, and date extracted from the URL are: {extract_date(url)}\")"
   ]
  },
  {
   "cell_type": "raw",
   "id": "5ad7d250",
   "metadata": {},
   "source": [
    "30.Write a Python program to convert a date of yyyy-mm-dd format to dd-mm-yyyy format."
   ]
  },
  {
   "cell_type": "code",
   "execution_count": 14,
   "id": "c2f3f8ea",
   "metadata": {},
   "outputs": [
    {
     "name": "stdout",
     "output_type": "stream",
     "text": [
      "The original date in yyyy-mm-dd format: 2024-01-08\n",
      "The date in dd-mm-yyyy format: 08-01-2024\n"
     ]
    }
   ],
   "source": [
    "def change_format(date):\n",
    "    return re.sub(r'(\\d{4})-(\\d{1,2})-(\\d{1,2})', r'\\3-\\2-\\1', date)\n",
    "\n",
    "date = '2024-01-08'\n",
    "print(f\"The original date in yyyy-mm-dd format: {date}\")\n",
    "print(f\"The date in dd-mm-yyyy format: {change_format(date)}\")"
   ]
  },
  {
   "cell_type": "code",
   "execution_count": null,
   "id": "66f0b277",
   "metadata": {},
   "outputs": [],
   "source": []
  }
 ],
 "metadata": {
  "kernelspec": {
   "display_name": "Python 3 (ipykernel)",
   "language": "python",
   "name": "python3"
  },
  "language_info": {
   "codemirror_mode": {
    "name": "ipython",
    "version": 3
   },
   "file_extension": ".py",
   "mimetype": "text/x-python",
   "name": "python",
   "nbconvert_exporter": "python",
   "pygments_lexer": "ipython3",
   "version": "3.11.4"
  }
 },
 "nbformat": 4,
 "nbformat_minor": 5
}
